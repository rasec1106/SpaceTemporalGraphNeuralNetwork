{
 "cells": [
  {
   "cell_type": "markdown",
   "id": "bc1850fa",
   "metadata": {},
   "source": [
    "<hr>\n",
    "<h1 align=\"center\">Redes neuronales de Grafos Espacio Temporales</h1>\n",
    "<hr>"
   ]
  },
  {
   "cell_type": "markdown",
   "id": "a4267d00",
   "metadata": {},
   "source": []
  }
 ],
 "metadata": {
  "language_info": {
   "name": "python"
  }
 },
 "nbformat": 4,
 "nbformat_minor": 5
}
